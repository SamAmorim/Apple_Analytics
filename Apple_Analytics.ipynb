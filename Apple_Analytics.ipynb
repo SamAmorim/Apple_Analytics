{
 "cells": [
  {
   "cell_type": "code",
   "execution_count": 196,
   "id": "d8a31310-86aa-418d-8b6c-29ec1ff55378",
   "metadata": {},
   "outputs": [
    {
     "name": "stdout",
     "output_type": "stream",
     "text": [
      "{'int_curr_symbol': 'USD', 'currency_symbol': '$', 'mon_decimal_point': '.', 'mon_thousands_sep': ',', 'mon_grouping': [3, 0], 'positive_sign': '', 'negative_sign': '-', 'int_frac_digits': 2, 'frac_digits': 2, 'p_cs_precedes': 1, 'p_sep_by_space': 0, 'n_cs_precedes': 1, 'n_sep_by_space': 0, 'p_sign_posn': 3, 'n_sign_posn': 0, 'decimal_point': '.', 'thousands_sep': ',', 'grouping': [3, 0]}\n"
     ]
    }
   ],
   "source": [
    "import locale\n",
    "\n",
    "locale.setlocale(locale.LC_ALL, 'en_US.UTF-8')\n",
    "\n",
    "print(locale.localeconv())\n"
   ]
  },
  {
   "cell_type": "markdown",
   "id": "c43ba9ce-3775-47e6-82e0-2d2a06f3c6fc",
   "metadata": {},
   "source": [
    "# Carregando a Base de Dados"
   ]
  },
  {
   "cell_type": "code",
   "execution_count": 198,
   "id": "7863eb50-1a01-4d3b-bea2-e556bea11369",
   "metadata": {},
   "outputs": [],
   "source": [
    "import pandas as pd "
   ]
  },
  {
   "cell_type": "code",
   "execution_count": 199,
   "id": "3df6c92d-78bf-4d76-8061-84fe54a87da1",
   "metadata": {},
   "outputs": [
    {
     "data": {
      "text/html": [
       "<div>\n",
       "<style scoped>\n",
       "    .dataframe tbody tr th:only-of-type {\n",
       "        vertical-align: middle;\n",
       "    }\n",
       "\n",
       "    .dataframe tbody tr th {\n",
       "        vertical-align: top;\n",
       "    }\n",
       "\n",
       "    .dataframe thead th {\n",
       "        text-align: right;\n",
       "    }\n",
       "</style>\n",
       "<table border=\"1\" class=\"dataframe\">\n",
       "  <thead>\n",
       "    <tr style=\"text-align: right;\">\n",
       "      <th></th>\n",
       "      <th>year</th>\n",
       "      <th>EBITDA (millions)</th>\n",
       "      <th>Revenue (millions)</th>\n",
       "      <th>Gross Profit (millions)</th>\n",
       "      <th>Op Income (millions)</th>\n",
       "      <th>Net Income (millions)</th>\n",
       "      <th>EPS</th>\n",
       "      <th>Shares Outstanding</th>\n",
       "      <th>Year Close Price</th>\n",
       "      <th>Total Assets (millions)</th>\n",
       "      <th>Cash on Hand (millions)</th>\n",
       "      <th>Long Term Debt (millions)</th>\n",
       "      <th>Total Liabilities (millions)</th>\n",
       "      <th>Gross Margin</th>\n",
       "      <th>PE ratio</th>\n",
       "      <th>Employees</th>\n",
       "    </tr>\n",
       "  </thead>\n",
       "  <tbody>\n",
       "    <tr>\n",
       "      <th>0</th>\n",
       "      <td>2024</td>\n",
       "      <td>$134,661</td>\n",
       "      <td>$391,035</td>\n",
       "      <td>$180,683</td>\n",
       "      <td>$123,216</td>\n",
       "      <td>$93,736</td>\n",
       "      <td>$6.08</td>\n",
       "      <td>15,408</td>\n",
       "      <td>243.0400</td>\n",
       "      <td>$364,980</td>\n",
       "      <td>$65,171</td>\n",
       "      <td>$85,750</td>\n",
       "      <td>$308,030</td>\n",
       "      <td>46.21%</td>\n",
       "      <td>39.97</td>\n",
       "      <td>164,000</td>\n",
       "    </tr>\n",
       "    <tr>\n",
       "      <th>1</th>\n",
       "      <td>2023</td>\n",
       "      <td>$125,820</td>\n",
       "      <td>$383,285</td>\n",
       "      <td>$169,148</td>\n",
       "      <td>$114,301</td>\n",
       "      <td>$96,995</td>\n",
       "      <td>$6.13</td>\n",
       "      <td>15,813</td>\n",
       "      <td>191.5919</td>\n",
       "      <td>$352,583</td>\n",
       "      <td>$61,555</td>\n",
       "      <td>$95,281</td>\n",
       "      <td>$290,437</td>\n",
       "      <td>45.03%</td>\n",
       "      <td>29.84</td>\n",
       "      <td>161,000</td>\n",
       "    </tr>\n",
       "    <tr>\n",
       "      <th>2</th>\n",
       "      <td>2022</td>\n",
       "      <td>$130,541</td>\n",
       "      <td>$394,328</td>\n",
       "      <td>$170,782</td>\n",
       "      <td>$119,437</td>\n",
       "      <td>$99,803</td>\n",
       "      <td>$6.11</td>\n",
       "      <td>16,326</td>\n",
       "      <td>128.5816</td>\n",
       "      <td>$352,755</td>\n",
       "      <td>$48,304</td>\n",
       "      <td>$98,959</td>\n",
       "      <td>$302,083</td>\n",
       "      <td>43.06%</td>\n",
       "      <td>21.83</td>\n",
       "      <td>164,000</td>\n",
       "    </tr>\n",
       "    <tr>\n",
       "      <th>3</th>\n",
       "      <td>2021</td>\n",
       "      <td>$120,233</td>\n",
       "      <td>$365,817</td>\n",
       "      <td>$152,836</td>\n",
       "      <td>$108,949</td>\n",
       "      <td>$94,680</td>\n",
       "      <td>$5.61</td>\n",
       "      <td>16,865</td>\n",
       "      <td>174.7132</td>\n",
       "      <td>$351,002</td>\n",
       "      <td>$62,639</td>\n",
       "      <td>$109,106</td>\n",
       "      <td>$287,912</td>\n",
       "      <td>43.02%</td>\n",
       "      <td>28.93</td>\n",
       "      <td>154,000</td>\n",
       "    </tr>\n",
       "    <tr>\n",
       "      <th>4</th>\n",
       "      <td>2020</td>\n",
       "      <td>$77,344</td>\n",
       "      <td>$274,515</td>\n",
       "      <td>$104,956</td>\n",
       "      <td>$66,288</td>\n",
       "      <td>$57,411</td>\n",
       "      <td>$3.28</td>\n",
       "      <td>17,528</td>\n",
       "      <td>129.7556</td>\n",
       "      <td>$323,888</td>\n",
       "      <td>$90,943</td>\n",
       "      <td>$98,667</td>\n",
       "      <td>$258,549</td>\n",
       "      <td>38.78%</td>\n",
       "      <td>35.14</td>\n",
       "      <td>147,000</td>\n",
       "    </tr>\n",
       "  </tbody>\n",
       "</table>\n",
       "</div>"
      ],
      "text/plain": [
       "   year EBITDA (millions) Revenue (millions) Gross Profit (millions)  \\\n",
       "0  2024          $134,661           $391,035                $180,683   \n",
       "1  2023          $125,820           $383,285                $169,148   \n",
       "2  2022          $130,541           $394,328                $170,782   \n",
       "3  2021          $120,233           $365,817                $152,836   \n",
       "4  2020           $77,344           $274,515                $104,956   \n",
       "\n",
       "  Op Income (millions) Net Income (millions)    EPS Shares Outstanding  \\\n",
       "0             $123,216               $93,736  $6.08             15,408   \n",
       "1             $114,301               $96,995  $6.13             15,813   \n",
       "2             $119,437               $99,803  $6.11             16,326   \n",
       "3             $108,949               $94,680  $5.61             16,865   \n",
       "4              $66,288               $57,411  $3.28             17,528   \n",
       "\n",
       "   Year Close Price Total Assets (millions) Cash on Hand (millions)  \\\n",
       "0          243.0400                $364,980                 $65,171   \n",
       "1          191.5919                $352,583                 $61,555   \n",
       "2          128.5816                $352,755                 $48,304   \n",
       "3          174.7132                $351,002                 $62,639   \n",
       "4          129.7556                $323,888                 $90,943   \n",
       "\n",
       "  Long Term Debt (millions) Total Liabilities (millions) Gross Margin  \\\n",
       "0                   $85,750                     $308,030       46.21%   \n",
       "1                   $95,281                     $290,437       45.03%   \n",
       "2                   $98,959                     $302,083       43.06%   \n",
       "3                  $109,106                     $287,912       43.02%   \n",
       "4                   $98,667                     $258,549       38.78%   \n",
       "\n",
       "   PE ratio Employees  \n",
       "0     39.97   164,000  \n",
       "1     29.84   161,000  \n",
       "2     21.83   164,000  \n",
       "3     28.93   154,000  \n",
       "4     35.14   147,000  "
      ]
     },
     "execution_count": 199,
     "metadata": {},
     "output_type": "execute_result"
    }
   ],
   "source": [
    "path = 'Data/Apple 2009-2024.csv'\n",
    "df = pd.read_csv(path)\n",
    "df.head()\n"
   ]
  },
  {
   "cell_type": "markdown",
   "id": "5785d300-9a62-4a05-91f6-4c0fc4e5ec96",
   "metadata": {},
   "source": [
    "# Tratamento de dados"
   ]
  },
  {
   "cell_type": "markdown",
   "id": "16cd9d76-66bd-4dfb-9854-e6495bae3a35",
   "metadata": {},
   "source": [
    "## Ajustando Tipos de Dados"
   ]
  },
  {
   "cell_type": "code",
   "execution_count": 245,
   "id": "e20c4e12-84bd-4551-88eb-14da61cb3a5e",
   "metadata": {},
   "outputs": [
    {
     "data": {
      "text/plain": [
       "year                              int64\n",
       "EBITDA (millions)                 int64\n",
       "Revenue (millions)                int64\n",
       "Gross Profit (millions)           int64\n",
       "Op Income (millions)              int64\n",
       "Net Income (millions)             int64\n",
       "EPS                              object\n",
       "Shares Outstanding               object\n",
       "Year Close Price                float64\n",
       "Total Assets (millions)          object\n",
       "Cash on Hand (millions)          object\n",
       "Long Term Debt (millions)        object\n",
       "Total Liabilities (millions)     object\n",
       "Gross Margin                     object\n",
       "PE ratio                        float64\n",
       "Employees                        object\n",
       "dtype: object"
      ]
     },
     "execution_count": 245,
     "metadata": {},
     "output_type": "execute_result"
    }
   ],
   "source": [
    "df.dtypes"
   ]
  },
  {
   "cell_type": "code",
   "execution_count": 283,
   "id": "1866b784-9249-48df-9497-7392bd2f0197",
   "metadata": {},
   "outputs": [
    {
     "data": {
      "text/plain": [
       "year                              int64\n",
       "EBITDA (millions)                 int64\n",
       "Revenue (millions)                int64\n",
       "Gross Profit (millions)           int64\n",
       "Op Income (millions)              int64\n",
       "Net Income (millions)             int64\n",
       "EPS                             float64\n",
       "Shares Outstanding                int64\n",
       "Year Close Price                float64\n",
       "Total Assets (millions)           int64\n",
       "Cash on Hand (millions)           int64\n",
       "Long Term Debt (millions)         int64\n",
       "Total Liabilities (millions)      int64\n",
       "Gross Margin                    float64\n",
       "PE ratio                        float64\n",
       "Employees                         int64\n",
       "dtype: object"
      ]
     },
     "execution_count": 283,
     "metadata": {},
     "output_type": "execute_result"
    }
   ],
   "source": [
    "df= df.replace({'$': '', ',': '', '%' : ''}, regex=True)\n",
    "\n",
    "colunas_para_ajustar_tipos  = ['EPS', 'Shares Outstanding', 'Total Assets (millions)', 'Cash on Hand (millions)', 'Long Term Debt (millions)', 'Total Liabilities (millions)', 'Gross Margin', 'Employees']\n",
    "\n",
    "\n",
    "try:\n",
    "    for coluna in colunas_para_ajustar_tipos:\n",
    "        df[coluna] = pd.to_numeric(df[coluna], errors='coerce')\n",
    "        \n",
    "\n",
    "except Exception as e:\n",
    "    print(e)\n",
    "\n",
    "del colunas_para_ajustar_tipos\n",
    "df.dtypes\n"
   ]
  },
  {
   "cell_type": "code",
   "execution_count": 211,
   "id": "a7141834-9692-4e37-9a39-16822f5ad86b",
   "metadata": {},
   "outputs": [
    {
     "data": {
      "text/plain": [
       "Index(['year', 'EBITDA (millions)', 'Revenue (millions)',\n",
       "       'Gross Profit (millions)', 'Op Income (millions)',\n",
       "       'Net Income (millions)', 'EPS', 'Shares Outstanding',\n",
       "       'Year Close Price', 'Total Assets (millions)',\n",
       "       'Cash on Hand (millions)', 'Long Term Debt (millions)',\n",
       "       'Total Liabilities (millions)', 'Gross Margin', 'PE ratio',\n",
       "       'Employees'],\n",
       "      dtype='object')"
      ]
     },
     "execution_count": 211,
     "metadata": {},
     "output_type": "execute_result"
    }
   ],
   "source": [
    "df.columns"
   ]
  }
 ],
 "metadata": {
  "kernelspec": {
   "display_name": "Python 3 (ipykernel)",
   "language": "python",
   "name": "python3"
  },
  "language_info": {
   "codemirror_mode": {
    "name": "ipython",
    "version": 3
   },
   "file_extension": ".py",
   "mimetype": "text/x-python",
   "name": "python",
   "nbconvert_exporter": "python",
   "pygments_lexer": "ipython3",
   "version": "3.12.4"
  }
 },
 "nbformat": 4,
 "nbformat_minor": 5
}
